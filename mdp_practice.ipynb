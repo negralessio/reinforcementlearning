{
 "cells": [
  {
   "cell_type": "code",
   "execution_count": 12,
   "source": [
    "import numpy as np\r\n",
    "\r\n",
    "# TODO: In \"for a in action[s]\" add wall\r\n",
    "# TODO: Plot delta over iteration for seeing how it smallens everytime\r\n",
    "\r\n",
    "### Create States\r\n",
    "states = []\r\n",
    "\r\n",
    "for i in range(3):\r\n",
    "    for j in range(4):\r\n",
    "        states.append((i+1, j+1))\r\n",
    "\r\n",
    "### Create reward dictionary\r\n",
    "rewards = {}\r\n",
    "\r\n",
    "for state in states:\r\n",
    "    # Green Terminal State\r\n",
    "    if state == (1,4):\r\n",
    "        rewards[state] = 1\r\n",
    "\r\n",
    "    # Red Terminal State\r\n",
    "    elif state == (2, 4):\r\n",
    "        rewards[state] = -1\r\n",
    "\r\n",
    "    # For all other states\r\n",
    "    else:\r\n",
    "        rewards[state] = 0\r\n",
    "    \r\n",
    "### Define actions\r\n",
    "# U = Up, D = Down, L = Left, R = Right\r\n",
    "actions = {\r\n",
    "    (3, 1): [\"U\", \"R\"],             # Start state\r\n",
    "    (1, 1): [\"D\", \"R\"],\r\n",
    "    (1, 2): [\"L\", \"R\"],\r\n",
    "    (1, 3): [\"L\", \"R\", \"D\"],\r\n",
    "    (1, 4): [\"L\", \"D\"],             # Green Terminal state\r\n",
    "    (2, 1): [\"U\", \"D\"],             # (2, 2) is wall so we can basically ignore it here\r\n",
    "    (2, 2): [\"U\", \"D\", \"L\", \"R\"],\r\n",
    "    (2, 3): [\"U\", \"R\", \"D\"],\r\n",
    "    (2, 4): [\"U\", \"L\", \"D\"],\r\n",
    "    (3, 2): [\"L\", \"R\"],\r\n",
    "    (3, 3): [\"L\", \"U\", \"R\"],\r\n",
    "    (3, 4): [\"U\", \"L\"]\r\n",
    "}\r\n",
    "\r\n",
    "### Define initial policy, here: Random\r\n",
    "policy = {}\r\n",
    "for state in actions.keys():\r\n",
    "    policy[state] = np.random.choice(actions[state])\r\n",
    "\r\n",
    "### Value Iteration Presetting ###\r\n",
    "# 0th Step: Set Hyperparams\r\n",
    "GAMMA = 0.9\r\n",
    "EPSILON = 0.1\r\n",
    "THETA = 0.005\r\n",
    "\r\n",
    "# 1st Step: Initialize all V(s) arbitrary\r\n",
    "V = {}\r\n",
    "for s in states:\r\n",
    "    if s == (1, 4):\r\n",
    "        V[s] = 1\r\n",
    "    if s == (2, 4):\r\n",
    "        V[s] = -1\r\n",
    "    else:\r\n",
    "        V[s] = 0\r\n",
    "\r\n",
    "delta_records = []\r\n",
    "\r\n",
    "# Value Iteration\r\n",
    "numb_of_iteration = 0\r\n",
    "while True:\r\n",
    "    delta = 0\r\n",
    "    for s in states:\r\n",
    "        if s in policy:\r\n",
    "            v_init = V[s]\r\n",
    "            v_post = 0\r\n",
    "\r\n",
    "            # Get next state by altering the state tuple\r\n",
    "            for a in actions[s]:\r\n",
    "                # If action is Up\r\n",
    "                if a == \"U\":\r\n",
    "                    next_state = (s[0] - 1, s[1])\r\n",
    "                # If action is Down\r\n",
    "                if a == \"D\":\r\n",
    "                    next_state = (s[0] + 1, s[1])\r\n",
    "                # If action is Left\r\n",
    "                if a == \"L\":\r\n",
    "                    next_state = (s[0], s[1] - 1)\r\n",
    "                # If action is Right\r\n",
    "                if a == \"R\":\r\n",
    "                    next_state = (s[0], s[1] + 1)\r\n",
    "\r\n",
    "                # Choose random action to tackle exploitation vs exploration\r\n",
    "                a_rand = np.random.choice([i for i in actions[s] if i != a])\r\n",
    "                if a_rand == \"U\":\r\n",
    "                    rand_nxt_s = (s[0] - 1, s[1])\r\n",
    "                if a_rand == \"D\":\r\n",
    "                    rand_nxt_s = (s[0] + 1, s[1])\r\n",
    "                if a_rand == \"L\":\r\n",
    "                    rand_nxt_s = (s[0], s[1] - 1)\r\n",
    "                if a_rand == \"R\":\r\n",
    "                    rand_nxt_s = (s[0], s[1] + 1)\r\n",
    " \r\n",
    "                # Calculate new value of state s\r\n",
    "                # print(\"Current state: {},\\nNext state: {},\\nRandom Action: {}\".format(s, next_state, a_rand))\r\n",
    "                v = rewards[s] + (GAMMA * ((1-EPSILON) * V[next_state] + (EPSILON * V[rand_nxt_s])))\r\n",
    "                # If new value of v(s) is better than the old value, i.e. v_init, then keep it\r\n",
    "                if v > v_post:\r\n",
    "                    v_post = v\r\n",
    "                    policy[s] = a\r\n",
    "\r\n",
    "            V[s] = v_post\r\n",
    "\r\n",
    "            # Calculate delta, i.e. difference between the old value and the new value\r\n",
    "            delta = max(delta, np.abs(v_init - V[s]))\r\n",
    "            delta_records.append(delta)                     # Optional\r\n",
    "\r\n",
    "    if delta < THETA:\r\n",
    "        break\r\n",
    "    numb_of_iteration += 1\r\n",
    "\r\n",
    "print(numb_of_iteration)\r\n",
    "print(V)\r\n",
    "print(policy)\r\n",
    "\r\n",
    "\r\n"
   ],
   "outputs": [
    {
     "output_type": "stream",
     "name": "stdout",
     "text": [
      "30\n",
      "{(1, 1): 2.9500042678786973, (1, 2): 3.358346171447534, (1, 3): 3.821845787338452, (1, 4): 4.343953671834045, (2, 1): 2.599743905469941, (2, 2): 2.9541210848684356, (2, 3): 3.3439536718340452, (2, 4): 2.7556013928700467, (3, 1): 2.3396532494265854, (3, 2): 2.595631527074829, (3, 3): 2.9422093116223116, (3, 4): 2.6311936677723766}\n",
      "{(3, 1): 'U', (1, 1): 'R', (1, 2): 'R', (1, 3): 'R', (1, 4): 'L', (2, 1): 'U', (2, 2): 'U', (2, 3): 'U', (2, 4): 'U', (3, 2): 'R', (3, 3): 'U', (3, 4): 'L'}\n"
     ]
    }
   ],
   "metadata": {}
  },
  {
   "cell_type": "markdown",
   "source": [
    "# Plotting"
   ],
   "metadata": {}
  },
  {
   "cell_type": "code",
   "execution_count": 8,
   "source": [
    "import matplotlib.pyplot as plt\r\n",
    "import seaborn as sns\r\n",
    "sns.set()\r\n",
    "\r\n",
    "plt.plot(delta_records)\r\n",
    "plt.xlabel(\"Iteration #\")\r\n",
    "plt.ylabel(\"Delta\")\r\n",
    "plt.title(\"Delta in each Iteration\")\r\n",
    "plt.show()"
   ],
   "outputs": [
    {
     "output_type": "display_data",
     "data": {
      "image/png": "[encoded data removed]",
      "text/plain": [
       "<Figure size 432x288 with 1 Axes>"
      ]
     },
     "metadata": {}
    }
   ],
   "metadata": {}
  }
 ],
 "metadata": {
  "orig_nbformat": 4,
  "language_info": {
   "name": "python",
   "version": "3.8.5",
   "mimetype": "text/x-python",
   "codemirror_mode": {
    "name": "ipython",
    "version": 3
   },
   "pygments_lexer": "ipython3",
   "nbconvert_exporter": "python",
   "file_extension": ".py"
  },
  "kernelspec": {
   "name": "python3",
   "display_name": "Python 3.8.5 64-bit ('base': conda)"
  },
  "interpreter": {
   "hash": "07efdcd4b820c98a756949507a4d29d7862823915ec7477944641bea022f4f62"
  }
 },
 "nbformat": 4,
 "nbformat_minor": 2
}